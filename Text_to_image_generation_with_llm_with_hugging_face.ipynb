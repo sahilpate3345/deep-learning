{
  "nbformat": 4,
  "nbformat_minor": 0,
  "metadata": {
    "colab": {
      "private_outputs": true,
      "provenance": [],
      "gpuType": "T4",
      "authorship_tag": "ABX9TyNp0BNynXWVu0YJ8K8gCpBI",
      "include_colab_link": true
    },
    "kernelspec": {
      "name": "python3",
      "display_name": "Python 3"
    },
    "language_info": {
      "name": "python"
    },
    "accelerator": "GPU"
  },
  "cells": [
    {
      "cell_type": "markdown",
      "metadata": {
        "id": "view-in-github",
        "colab_type": "text"
      },
      "source": [
        "<a href=\"https://colab.research.google.com/github/sahilpate3345/deep-learning/blob/main/Text_to_image_generation_with_llm_with_hugging_face.ipynb\" target=\"_parent\"><img src=\"https://colab.research.google.com/assets/colab-badge.svg\" alt=\"Open In Colab\"/></a>"
      ]
    },
    {
      "cell_type": "code",
      "execution_count": null,
      "metadata": {
        "id": "suqHT9AdcUWB"
      },
      "outputs": [],
      "source": [
        "pip install diffusers transformers gradio accelerate"
      ]
    },
    {
      "cell_type": "code",
      "source": [
        "from diffusers import StableDiffusionPipeline\n",
        "import torch\n",
        "import matplotlib.pyplot as plt"
      ],
      "metadata": {
        "id": "L5Q5oBNccldK"
      },
      "execution_count": null,
      "outputs": []
    },
    {
      "cell_type": "code",
      "source": [
        "!pip show torch"
      ],
      "metadata": {
        "id": "Nav9b5X4c1Xi"
      },
      "execution_count": null,
      "outputs": []
    },
    {
      "cell_type": "code",
      "source": [
        "import torch\n",
        "torch.cuda.is_available()\n"
      ],
      "metadata": {
        "id": "_szJTzr_f8wh"
      },
      "execution_count": null,
      "outputs": []
    },
    {
      "cell_type": "code",
      "source": [
        "from diffusers import StableDiffusionPipeline\n",
        "import torch\n",
        "\n",
        "model_id1 = \"dreamlike-art/dreamlike-diffusion-1.0\"\n",
        "\n",
        "# Load the model in CPU mode\n",
        "pipe = StableDiffusionPipeline.from_pretrained(\n",
        "    model_id1,\n",
        "    torch_dtype=torch.float32,\n",
        "    use_safetensors=True\n",
        ")\n",
        "\n",
        "pipe = pipe.to(\"cpu\")\n",
        "\n",
        "prompt = \"a dreamy fantasy castle in the clouds\"\n",
        "image = pipe(prompt).images[0]\n",
        "\n",
        "image.show()\n"
      ],
      "metadata": {
        "id": "51gweZardGyY"
      },
      "execution_count": null,
      "outputs": []
    },
    {
      "cell_type": "code",
      "source": [
        "from diffusers import StableDiffusionPipeline\n",
        "import torch\n",
        "import matplotlib.pyplot as plt\n",
        "\n",
        "# Load model (CPU version)\n",
        "model_id = \"dreamlike-art/dreamlike-diffusion-1.0\"\n",
        "pipe = StableDiffusionPipeline.from_pretrained(\n",
        "    model_id,\n",
        "    torch_dtype=torch.float32,\n",
        "    use_safetensors=True\n",
        ")\n",
        "pipe = pipe.to(\"cpu\")\n",
        "\n",
        "# Prompt\n",
        "prompt = \"A young woman sitting on a wooden chair near a window, soft sunlight, realistic lighting\"\n",
        "\n",
        "# Generate image\n",
        "image = pipe(prompt).images[0]\n",
        "\n",
        "# Display\n",
        "print(\"[PROMPT]\", prompt)\n",
        "plt.imshow(image)\n",
        "plt.axis(\"off\")\n",
        "plt.show()\n"
      ],
      "metadata": {
        "id": "q-ZLgT8tgxw4"
      },
      "execution_count": null,
      "outputs": []
    }
  ]
}