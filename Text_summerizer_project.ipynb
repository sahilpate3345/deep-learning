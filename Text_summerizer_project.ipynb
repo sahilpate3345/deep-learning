{
  "nbformat": 4,
  "nbformat_minor": 0,
  "metadata": {
    "colab": {
      "private_outputs": true,
      "provenance": [],
      "gpuType": "T4",
      "authorship_tag": "ABX9TyNKWSsGNDCgLrDr+oBOPbk0",
      "include_colab_link": true
    },
    "kernelspec": {
      "name": "python3",
      "display_name": "Python 3"
    },
    "language_info": {
      "name": "python"
    },
    "accelerator": "GPU"
  },
  "cells": [
    {
      "cell_type": "markdown",
      "metadata": {
        "id": "view-in-github",
        "colab_type": "text"
      },
      "source": [
        "<a href=\"https://colab.research.google.com/github/sahilpate3345/deep-learning/blob/main/Text_summerizer_project.ipynb\" target=\"_parent\"><img src=\"https://colab.research.google.com/assets/colab-badge.svg\" alt=\"Open In Colab\"/></a>"
      ]
    },
    {
      "cell_type": "code",
      "execution_count": null,
      "metadata": {
        "id": "pMG4X492Y9GO"
      },
      "outputs": [],
      "source": [
        "!nvidia-smi"
      ]
    },
    {
      "cell_type": "code",
      "source": [
        "!pip install transformers[sentencepiece] datasets sacrebleu rouge_score py7zr -q\n"
      ],
      "metadata": {
        "id": "YNXFJXmfZOiT"
      },
      "execution_count": null,
      "outputs": []
    },
    {
      "cell_type": "code",
      "source": [
        "!pip install --upgrade accelerate\n",
        "!pip install transformers accelerate\n"
      ],
      "metadata": {
        "id": "Yd153st3aI4o"
      },
      "execution_count": null,
      "outputs": []
    },
    {
      "cell_type": "code",
      "source": [
        "from transformers import pipeline,set_seed\n",
        "from datasets import load_dataset,load_from_disk\n",
        "import matplotlib.pyplot as plt\n",
        "from datasets import load_dataset\n",
        "import pandas as pd\n",
        "from transformers import AutoModelForSeq2SeqLM,AutoTokenizer\n",
        "import nltk\n",
        "from nltk.tokenize import sent_tokenize\n",
        "from tqdm import tqdm\n",
        "import torch\n",
        "nltk.download(\"punkt\")"
      ],
      "metadata": {
        "id": "ULy0oC9jaylD"
      },
      "execution_count": null,
      "outputs": []
    },
    {
      "cell_type": "code",
      "source": [
        "device=\"cuida\" if torch.cuda.is_available() else \"cpu\"\n",
        "device\n"
      ],
      "metadata": {
        "id": "EEGa0tJtb-eC"
      },
      "execution_count": null,
      "outputs": []
    },
    {
      "cell_type": "code",
      "source": [
        "from transformers import AutoModelForSeq2SeqLM,AutoTokenizer"
      ],
      "metadata": {
        "id": "iHlCnJgQcK4k"
      },
      "execution_count": null,
      "outputs": []
    },
    {
      "cell_type": "code",
      "source": [
        "model_ckpt=\"google/pegasus-cnn_dailymail\"\n",
        "tokenizer=AutoTokenizer.from_pretrained(model_ckpt)#tokenizer is used to convert in vector"
      ],
      "metadata": {
        "id": "DW3It-F9cR1M"
      },
      "execution_count": null,
      "outputs": []
    },
    {
      "cell_type": "code",
      "source": [
        "import torch\n",
        "from transformers import AutoModelForSeq2SeqLM, AutoTokenizer\n",
        "\n",
        "model_ckpt = \"google/pegasus-xsum\"  # example checkpoint\n",
        "device = \"cuda\" if torch.cuda.is_available() else \"cpu\"\n",
        "\n",
        "model_pegasus = AutoModelForSeq2SeqLM.from_pretrained(model_ckpt).to(device)\n",
        "tokenizer = AutoTokenizer.from_pretrained(model_ckpt)\n"
      ],
      "metadata": {
        "id": "4fquVhKZcaNt"
      },
      "execution_count": null,
      "outputs": []
    },
    {
      "cell_type": "code",
      "source": [
        "from datasets import load_dataset\n",
        "\n",
        "dataset_samsum = load_dataset(\"knkarthick/samsum\")\n",
        "print(dataset_samsum)\n"
      ],
      "metadata": {
        "id": "Vvg0B9bod16d"
      },
      "execution_count": null,
      "outputs": []
    },
    {
      "cell_type": "code",
      "source": [
        "dataset_samsum"
      ],
      "metadata": {
        "id": "sQ1vDCAgfJr1"
      },
      "execution_count": null,
      "outputs": []
    },
    {
      "cell_type": "code",
      "source": [
        "dataset_samsum[\"train\"][\"dialogue\"][1]"
      ],
      "metadata": {
        "id": "A3XO4RcVfQ7k"
      },
      "execution_count": null,
      "outputs": []
    },
    {
      "cell_type": "code",
      "source": [
        "dataset_samsum[\"train\"][1][\"summary\"]"
      ],
      "metadata": {
        "id": "CAAewMd6fZPy"
      },
      "execution_count": null,
      "outputs": []
    },
    {
      "cell_type": "code",
      "source": [
        "split_lengths=[len(dataset_samsum[split])for split in dataset_samsum]\n",
        "print(f\"split length:{split_lengths}\")\n",
        "print(f\"features:{dataset_samsum['train'].column_names}\")\n",
        "print(\"\\nDialogue\")\n",
        "print(dataset_samsum[\"test\"][1][\"dialogue\"])\n",
        "print(\"\\n summary\")\n",
        "print(dataset_samsum[\"test\"][1][\"summary\"])\n",
        "\n",
        "\n",
        "\n"
      ],
      "metadata": {
        "id": "LPS_vMwsfllG"
      },
      "execution_count": null,
      "outputs": []
    },
    {
      "cell_type": "code",
      "source": [
        "def convert_example_to_feature(example_batch):\n",
        "    # Tokenize the dialogue (input)\n",
        "    inputs = tokenizer(example_batch['dialogue'],\n",
        "                       max_length=1024,\n",
        "                       truncation=True,\n",
        "                       padding=\"max_length\")\n",
        "\n",
        "    # Tokenize the summary (target)\n",
        "    targets = tokenizer(example_batch['summary'],\n",
        "                        max_length=128,\n",
        "                        truncation=True,\n",
        "                        padding=\"max_length\")\n",
        "\n",
        "    # Return tokenized inputs and labels\n",
        "    inputs[\"labels\"] = targets[\"input_ids\"]\n",
        "    return inputs"
      ],
      "metadata": {
        "id": "Y1fvlrXHhO5f"
      },
      "execution_count": null,
      "outputs": []
    },
    {
      "cell_type": "code",
      "source": [
        "dataset_samsum_pt = dataset_samsum.map(convert_example_to_feature, batched=True)"
      ],
      "metadata": {
        "id": "qy6BpHGehpEc"
      },
      "execution_count": null,
      "outputs": []
    },
    {
      "cell_type": "code",
      "source": [
        "dataset_samsum_pt[\"train\"]"
      ],
      "metadata": {
        "id": "RQl7_--3iLqh"
      },
      "execution_count": null,
      "outputs": []
    },
    {
      "cell_type": "code",
      "source": [
        "def convert_example_to_feature(example_batch):\n",
        "    # Tokenize the dialogue (input)\n",
        "    inputs = tokenizer(\n",
        "        example_batch['dialogue'],\n",
        "        max_length=1024,\n",
        "        truncation=True,\n",
        "        padding=\"max_length\",\n",
        "        return_attention_mask=True\n",
        "    )\n",
        "\n",
        "    # Tokenize the summary (target)\n",
        "    targets = tokenizer(\n",
        "        example_batch['summary'],\n",
        "        max_length=128,\n",
        "        truncation=True,\n",
        "        padding=\"max_length\",\n",
        "        return_attention_mask=True\n",
        "    )\n",
        "\n",
        "    # Return tokenized inputs and labels\n",
        "    inputs[\"labels\"] = targets[\"input_ids\"]\n",
        "    inputs[\"decoder_attention_mask\"] = targets[\"attention_mask\"]\n",
        "\n",
        "    return inputs\n"
      ],
      "metadata": {
        "id": "-Ed_nwU7iRuE"
      },
      "execution_count": null,
      "outputs": []
    },
    {
      "cell_type": "code",
      "source": [
        "dataset_samsum_pt = dataset_samsum.map(convert_example_to_feature, batched=True)\n"
      ],
      "metadata": {
        "id": "1mrQxEsBiiaa"
      },
      "execution_count": null,
      "outputs": []
    },
    {
      "cell_type": "code",
      "source": [
        "dataset_samsum_pt[\"train\"][0].keys()\n"
      ],
      "metadata": {
        "id": "vzYHLjn6jEAM"
      },
      "execution_count": null,
      "outputs": []
    },
    {
      "cell_type": "code",
      "source": [
        "dataset_samsum_pt[\"train\"][\"attention_mask\"][1]"
      ],
      "metadata": {
        "id": "KwwU-W2ijGES"
      },
      "execution_count": null,
      "outputs": []
    },
    {
      "cell_type": "code",
      "source": [
        "import torch\n",
        "from transformers import (\n",
        "    AutoTokenizer,\n",
        "    AutoModelForSeq2SeqLM,\n",
        "    Seq2SeqTrainer,\n",
        "    Seq2SeqTrainingArguments,\n",
        "    DataCollatorForSeq2Seq\n",
        ")\n",
        "from datasets import load_dataset\n"
      ],
      "metadata": {
        "id": "rbUlQJ6Djdco"
      },
      "execution_count": null,
      "outputs": []
    },
    {
      "cell_type": "code",
      "source": [
        "model_ckpt = \"google/pegasus-xsum\"\n",
        "tokenizer = AutoTokenizer.from_pretrained(model_ckpt)\n",
        "model = AutoModelForSeq2SeqLM.from_pretrained(model_ckpt)\n",
        "\n",
        "# Use GPU if available\n",
        "device = \"cuda\" if torch.cuda.is_available() else \"cpu\"\n",
        "model.to(device)\n"
      ],
      "metadata": {
        "id": "5t40f3t-jsAy"
      },
      "execution_count": null,
      "outputs": []
    },
    {
      "cell_type": "code",
      "source": [
        "dataset_samsum = load_dataset(\"knkarthick/samsum\")  # or your preferred namespace\n",
        "\n",
        "def convert_example_to_feature(example_batch):\n",
        "    inputs = tokenizer(\n",
        "        example_batch['dialogue'],\n",
        "        max_length=1024,\n",
        "        truncation=True,\n",
        "        padding=\"max_length\",\n",
        "        return_attention_mask=True\n",
        "    )\n",
        "    targets = tokenizer(\n",
        "        example_batch['summary'],\n",
        "        max_length=128,\n",
        "        truncation=True,\n",
        "        padding=\"max_length\",\n",
        "        return_attention_mask=True\n",
        "    )\n",
        "    inputs[\"labels\"] = targets[\"input_ids\"]\n",
        "    inputs[\"decoder_attention_mask\"] = targets[\"attention_mask\"]\n",
        "    return inputs\n",
        "\n",
        "dataset_samsum_pt = dataset_samsum.map(convert_example_to_feature, batched=True)\n"
      ],
      "metadata": {
        "id": "UDtNy-VUju9x"
      },
      "execution_count": null,
      "outputs": []
    },
    {
      "cell_type": "code",
      "source": [
        "data_collator = DataCollatorForSeq2Seq(\n",
        "    tokenizer,\n",
        "    model=model,\n",
        "    padding=True,\n",
        "    return_tensors=\"pt\"\n",
        ")\n"
      ],
      "metadata": {
        "id": "38xJV85Hj28p"
      },
      "execution_count": null,
      "outputs": []
    },
    {
      "cell_type": "code",
      "source": [
        "pip install --upgrade transformers\n"
      ],
      "metadata": {
        "id": "ATki9Zuy24Bc"
      },
      "execution_count": null,
      "outputs": []
    },
    {
      "cell_type": "code",
      "source": [
        "import transformers\n",
        "print(transformers.__version__)  # should be >=4.5.0\n"
      ],
      "metadata": {
        "id": "i2OHpR7I2_du"
      },
      "execution_count": null,
      "outputs": []
    },
    {
      "cell_type": "code",
      "source": [
        "from transformers import Seq2SeqTrainingArguments\n",
        "import torch  # for torch.cuda.is_available()\n",
        "\n",
        "training_args = Seq2SeqTrainingArguments(\n",
        "    output_dir=\"./pegasus_samsum\",\n",
        "    do_train=True,\n",
        "    do_eval=True,\n",
        "    logging_steps=100,\n",
        "    save_steps=500,\n",
        "    save_total_limit=2,\n",
        "    per_device_train_batch_size=2,\n",
        "    per_device_eval_batch_size=2,\n",
        "    num_train_epochs=1,\n",
        "    learning_rate=5e-5,\n",
        "    weight_decay=0.01,\n",
        "    predict_with_generate=True,\n",
        "    fp16=torch.cuda.is_available(),  # use mixed precision if GPU\n",
        "    logging_dir=\"./logs\",\n",
        ")\n"
      ],
      "metadata": {
        "id": "kBdLBtQO2_XN"
      },
      "execution_count": null,
      "outputs": []
    },
    {
      "cell_type": "code",
      "source": [
        "from datasets import load_dataset\n",
        "\n",
        "dataset_samsum_pt = load_dataset(\"knkarthick/samsum\")\n"
      ],
      "metadata": {
        "id": "EyI594i2j9ri"
      },
      "execution_count": null,
      "outputs": []
    },
    {
      "cell_type": "code",
      "source": [
        "from transformers import PegasusTokenizer\n",
        "\n",
        "model_name = \"google/pegasus-large\"\n",
        "tokenizer = PegasusTokenizer.from_pretrained(model_name)\n",
        "\n",
        "def preprocess_function(examples):\n",
        "    inputs = examples[\"dialogue\"]\n",
        "    targets = examples[\"summary\"]\n",
        "    model_inputs = tokenizer(inputs, max_length=1024, truncation=True)\n",
        "    labels = tokenizer(targets, max_length=128, truncation=True)\n",
        "    model_inputs[\"labels\"] = labels[\"input_ids\"]\n",
        "    return model_inputs\n",
        "\n",
        "tokenized_datasets = dataset_samsum_pt.map(preprocess_function, batched=True)\n"
      ],
      "metadata": {
        "id": "h1vJt21_6IY-"
      },
      "execution_count": null,
      "outputs": []
    },
    {
      "cell_type": "code",
      "source": [
        "from transformers import DataCollatorForSeq2Seq\n",
        "\n",
        "data_collator = DataCollatorForSeq2Seq(tokenizer, model=model)\n"
      ],
      "metadata": {
        "id": "UEWfP6E_6cI_"
      },
      "execution_count": null,
      "outputs": []
    },
    {
      "cell_type": "code",
      "source": [
        "from transformers import Seq2SeqTrainer\n",
        "\n",
        "trainer = Seq2SeqTrainer(\n",
        "    model=model,\n",
        "    args=training_args,\n",
        "    train_dataset=tokenized_datasets[\"train\"],\n",
        "    eval_dataset=tokenized_datasets[\"validation\"],\n",
        "    tokenizer=tokenizer,\n",
        "    data_collator=data_collator\n",
        ")\n"
      ],
      "metadata": {
        "id": "PHTqaOQ86ghV"
      },
      "execution_count": null,
      "outputs": []
    },
    {
      "cell_type": "code",
      "source": [
        "training_args = Seq2SeqTrainingArguments(\n",
        "    output_dir=\"./pegasus_samsum\",\n",
        "    do_train=True,\n",
        "    do_eval=True,\n",
        "    logging_steps=100,\n",
        "    save_steps=500,\n",
        "    save_total_limit=2,\n",
        "    per_device_train_batch_size=2,\n",
        "    per_device_eval_batch_size=2,\n",
        "    num_train_epochs=1,\n",
        "    learning_rate=5e-5,\n",
        "    weight_decay=0.01,\n",
        "    predict_with_generate=True,\n",
        "    fp16=torch.cuda.is_available(),\n",
        "    logging_dir=\"./logs\",\n",
        "    report_to=[]  # disables W&B\n",
        ")\n",
        "\n",
        "\n"
      ],
      "metadata": {
        "id": "RxB-TEYY6jpk"
      },
      "execution_count": null,
      "outputs": []
    },
    {
      "cell_type": "code",
      "source": [
        "pip install --upgrade transformers accelerate datasets\n"
      ],
      "metadata": {
        "id": "6RHMf3aA8kjV"
      },
      "execution_count": null,
      "outputs": []
    },
    {
      "cell_type": "code",
      "source": [
        "from transformers import PegasusForConditionalGeneration, PegasusTokenizer, Seq2SeqTrainer, Seq2SeqTrainingArguments, DataCollatorForSeq2Seq\n",
        "from datasets import load_dataset\n",
        "import torch\n",
        "\n",
        "# Load dataset\n",
        "dataset_samsum_pt = load_dataset(\"knkarthick/samsum\")\n",
        "\n",
        "# Load model and tokenizer\n",
        "model_name = \"google/pegasus-large\"\n",
        "tokenizer = PegasusTokenizer.from_pretrained(model_name)\n",
        "model = PegasusForConditionalGeneration.from_pretrained(model_name)\n",
        "\n",
        "# Tokenize dataset\n",
        "def preprocess_function(examples):\n",
        "    model_inputs = tokenizer(examples[\"dialogue\"], max_length=1024, truncation=True)\n",
        "    labels = tokenizer(examples[\"summary\"], max_length=128, truncation=True)\n",
        "    model_inputs[\"labels\"] = labels[\"input_ids\"]\n",
        "    return model_inputs\n",
        "\n",
        "tokenized_datasets = dataset_samsum_pt.map(preprocess_function, batched=True)\n",
        "\n",
        "# Data collator\n",
        "data_collator = DataCollatorForSeq2Seq(tokenizer, model=model)\n",
        "\n",
        "# Training arguments (disable wandb)\n",
        "training_args = Seq2SeqTrainingArguments(\n",
        "    output_dir=\"./pegasus_samsum\",\n",
        "    do_train=True,\n",
        "    do_eval=True,\n",
        "    logging_steps=100,\n",
        "    save_steps=500,\n",
        "    save_total_limit=2,\n",
        "    per_device_train_batch_size=2,\n",
        "    per_device_eval_batch_size=2,\n",
        "    num_train_epochs=1,\n",
        "    learning_rate=5e-5,\n",
        "    weight_decay=0.01,\n",
        "    predict_with_generate=True,\n",
        "    fp16=torch.cuda.is_available(),\n",
        "    logging_dir=\"./logs\",\n",
        "    report_to=[]  # disables W&B\n",
        ")\n",
        "\n",
        "# Initialize trainer\n",
        "trainer = Seq2SeqTrainer(\n",
        "    model=model,\n",
        "    args=training_args,\n",
        "    train_dataset=tokenized_datasets[\"train\"],\n",
        "    eval_dataset=tokenized_datasets[\"validation\"],\n",
        "    tokenizer=tokenizer,\n",
        "    data_collator=data_collator\n",
        ")\n",
        "\n",
        "# Train\n",
        "trainer.train()\n"
      ],
      "metadata": {
        "id": "_0ynF7YP82wi"
      },
      "execution_count": null,
      "outputs": []
    },
    {
      "cell_type": "code",
      "source": [
        "trainer.train()        # for training\n",
        "trainer.evaluate()     # for evaluation\n"
      ],
      "metadata": {
        "id": "vrexE7FX-bgD"
      },
      "execution_count": null,
      "outputs": []
    },
    {
      "cell_type": "code",
      "source": [
        "# Evaluate on the validation set\n",
        "metrics = trainer.evaluate(tokenized_datasets[\"validation\"])\n",
        "print(metrics)\n"
      ],
      "metadata": {
        "id": "Svbvio2W9kV4"
      },
      "execution_count": null,
      "outputs": []
    },
    {
      "cell_type": "code",
      "source": [
        "from datasets import load_metric\n",
        "\n",
        "rouge = load_metric(\"rouge\")\n",
        "\n",
        "# Take a small subset for quick evaluation\n",
        "eval_samples = tokenized_datasets[\"validation\"].select(range(20))\n",
        "\n",
        "predictions = trainer.predict(eval_samples)\n",
        "decoded_preds = tokenizer.batch_decode(predictions.predictions, skip_special_tokens=True)\n",
        "decoded_labels = tokenizer.batch_decode(predictions.label_ids, skip_special_tokens=True)\n",
        "\n",
        "# Compute ROUGE\n",
        "results = rouge.compute(predictions=decoded_preds, references=decoded_labels)\n",
        "print(results)\n"
      ],
      "metadata": {
        "id": "XCN__UgO9rnG"
      },
      "execution_count": null,
      "outputs": []
    }
  ]
}